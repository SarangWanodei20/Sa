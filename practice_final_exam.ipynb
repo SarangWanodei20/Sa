{
  "cells": [
    {
      "cell_type": "markdown",
      "metadata": {
        "id": "view-in-github",
        "colab_type": "text"
      },
      "source": [
        "<a href=\"https://colab.research.google.com/github/SarangWanodei20/Sa/blob/main/practice_final_exam.ipynb\" target=\"_parent\"><img src=\"https://colab.research.google.com/assets/colab-badge.svg\" alt=\"Open In Colab\"/></a>"
      ]
    },
    {
      "cell_type": "markdown",
      "source": [
        "TASK 7: Get Basic Sales Summary from a Tiny SQLite Database using Python"
      ],
      "metadata": {
        "id": "3N19CHgGMqMA"
      }
    },
    {
      "cell_type": "markdown",
      "source": [
        "Create the Database (if not already created)"
      ],
      "metadata": {
        "id": "2UBhW_GJMgCD"
      }
    },
    {
      "cell_type": "code",
      "source": [
        "import sqlite3\n",
        "\n",
        "# Connect to SQLite database (creates file if not exists)\n",
        "conn = sqlite3.connect(\"sales_data.db\")\n",
        "cursor = conn.cursor()\n",
        "\n",
        "# Create a simple sales table\n",
        "cursor.execute('''\n",
        "CREATE TABLE IF NOT EXISTS sales (\n",
        "    id INTEGER PRIMARY KEY AUTOINCREMENT,\n",
        "    product TEXT NOT NULL,\n",
        "    quantity INTEGER NOT NULL,\n",
        "    price REAL NOT NULL\n",
        ")\n",
        "''')\n",
        "\n",
        "# Insert some sample sales data\n",
        "sample_data = [\n",
        "    ('Apple', 10, 0.5),\n",
        "    ('Banana', 5, 0.2),\n",
        "    ('Orange', 8, 0.4),\n",
        "    ('Apple', 6, 0.5),\n",
        "    ('Banana', 7, 0.2),\n",
        "    ('Orange', 3, 0.4),\n",
        "]\n",
        "\n",
        "cursor.executemany(\"INSERT INTO sales (product, quantity, price) VALUES (?, ?, ?)\", sample_data)\n",
        "conn.commit()\n"
      ],
      "metadata": {
        "id": "YC1NVLpLMhjX"
      },
      "execution_count": null,
      "outputs": []
    },
    {
      "cell_type": "markdown",
      "source": [
        "Run SQL Query and Load into Pandas"
      ],
      "metadata": {
        "id": "hYlh-JeRMutr"
      }
    },
    {
      "cell_type": "code",
      "source": [
        "import pandas as pd\n",
        "\n",
        "# Query to summarize sales\n",
        "query = \"\"\"\n",
        "SELECT\n",
        "    product,\n",
        "    SUM(quantity) AS total_qty,\n",
        "    SUM(quantity * price) AS revenue\n",
        "FROM sales\n",
        "GROUP BY product\n",
        "\"\"\"\n",
        "\n",
        "# Load query results into a DataFrame\n",
        "df = pd.read_sql_query(query, conn)\n",
        "\n",
        "# Close the connection\n",
        "conn.close()\n",
        "\n",
        "# Print the DataFrame\n",
        "print(df)\n"
      ],
      "metadata": {
        "colab": {
          "base_uri": "https://localhost:8080/"
        },
        "id": "Vgk34XuoMysn",
        "outputId": "41555469-f836-4e99-c706-f216a0dc5402"
      },
      "execution_count": null,
      "outputs": [
        {
          "output_type": "stream",
          "name": "stdout",
          "text": [
            "  product  total_qty  revenue\n",
            "0   Apple         64     32.0\n",
            "1  Banana         48      9.6\n",
            "2  Orange         44     17.6\n"
          ]
        }
      ]
    },
    {
      "cell_type": "markdown",
      "source": [
        "Plot a Simple Bar Chart"
      ],
      "metadata": {
        "id": "MEJ53SSeM1u6"
      }
    },
    {
      "cell_type": "code",
      "source": [
        "import matplotlib.pyplot as plt\n",
        "\n",
        "# Bar chart for revenue by product\n",
        "df.plot(kind='bar', x='product', y='revenue', legend=False)\n",
        "plt.title('Revenue by Product')\n",
        "plt.ylabel('Revenue ($)')\n",
        "plt.xlabel('Product')\n",
        "plt.tight_layout()\n",
        "plt.show()\n",
        "\n",
        "# Save the chart (optional)\n",
        "# plt.savefig(\"sales_chart.png\")\n"
      ],
      "metadata": {
        "colab": {
          "base_uri": "https://localhost:8080/",
          "height": 487
        },
        "id": "a_FZ1HpvM9GG",
        "outputId": "b441f682-01bf-4a96-862f-3e284bcf9541"
      },
      "execution_count": null,
      "outputs": [
        {
          "output_type": "display_data",
          "data": {
            "text/plain": [
              "<Figure size 640x480 with 1 Axes>"
            ],
            "image/png": "[encoded data removed]"
          },
          "metadata": {}
        }
      ]
    },
    {
      "cell_type": "markdown",
      "source": [
        "INTERVIEW QUESTIONS"
      ],
      "metadata": {
        "id": "6cvASheaOBcY"
      }
    },
    {
      "cell_type": "markdown",
      "source": [
        " How did you connect Python to a database?\n",
        "\n",
        "I used sqlite3.connect(\"sales_data.db\") to connect to a local SQLite file."
      ],
      "metadata": {
        "id": "AFS4zsa8NnbI"
      }
    },
    {
      "cell_type": "markdown",
      "source": [
        "What SQL query did you run?\n",
        "\n",
        "I ran a SELECT statement to get total quantity and revenue per product using SUM() and GROUP BY."
      ],
      "metadata": {
        "id": "ynDN21cGOGV_"
      }
    },
    {
      "cell_type": "markdown",
      "source": [
        " What does GROUP BY do?\n",
        "\n",
        "It groups rows by the product name so we can aggregate data like totals for each unique product."
      ],
      "metadata": {
        "id": "0SKmYy3zONBw"
      }
    },
    {
      "cell_type": "markdown",
      "source": [
        " How did you calculate revenue?\n",
        "\n",
        "By using SUM(quantity * price) inside the SQL query."
      ],
      "metadata": {
        "id": "vdYP8IRqOZRD"
      }
    },
    {
      "cell_type": "markdown",
      "source": [
        " How did you visualize the result?\n",
        "\n",
        "I used matplotlib to create a bar chart showing revenue by product."
      ],
      "metadata": {
        "id": "_TAeeCRiOfun"
      }
    },
    {
      "cell_type": "markdown",
      "source": [
        " What does pandas do in your code?\n",
        "\n",
        "pandas.read_sql_query() loads the SQL query result into a DataFrame, making it easier to manipulate and plot."
      ],
      "metadata": {
        "id": "56tVWcmXOlyi"
      }
    },
    {
      "cell_type": "markdown",
      "source": [
        "What’s the benefit of using SQL inside Python?\n",
        "\n",
        "It combines the power of SQL querying with Python’s visualization and data analysis capabilities."
      ],
      "metadata": {
        "id": "zrrc8Js-Onl4"
      }
    },
    {
      "cell_type": "markdown",
      "source": [
        "Could you run the same SQL query directly in DB Browser for SQLite?\n",
        "\n",
        "Yes, the same query works directly in DB Browser and would return similar results."
      ],
      "metadata": {
        "id": "1v6tLGc_O3Fp"
      }
    }
  ],
  "metadata": {
    "kernelspec": {
      "display_name": "Python 3",
      "language": "python",
      "name": "python3"
    },
    "language_info": {
      "codemirror_mode": {
        "name": "ipython",
        "version": 3
      },
      "file_extension": ".py",
      "mimetype": "text/x-python",
      "name": "python",
      "nbconvert_exporter": "python",
      "pygments_lexer": "ipython3",
      "version": "3.7.4"
    },
    "colab": {
      "provenance": [],
      "include_colab_link": true
    }
  },
  "nbformat": 4,
  "nbformat_minor": 0
}